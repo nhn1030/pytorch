{
 "cells": [
  {
   "cell_type": "code",
   "execution_count": 1,
   "metadata": {},
   "outputs": [
    {
     "name": "stdout",
     "output_type": "stream",
     "text": [
      "Size: 3588.0100000000007\n"
     ]
    }
   ],
   "source": [
    "import cv2\n",
    "\n",
    "# Load the image\n",
    "img = cv2.imread('/Users/nohyeonnam/Documents/ai/toy/b9b3712f257a7fc6f5bda3ca792e601d.jpg')\n",
    "\n",
    "# Convert to grayscale\n",
    "gray = cv2.cvtColor(img, cv2.COLOR_BGR2GRAY)\n",
    "\n",
    "#to separate the object from the background\n",
    "ret, thresh = cv2.threshold(gray, 127, 255, 0)\n",
    "\n",
    "# Find the contours of the object\n",
    "contours, hierarchy = cv2.findContours(thresh, cv2.RETR_TREE, cv2.CHAIN_APPROX_SIMPLE)\n",
    "\n",
    "# Draw the contours on the original image\n",
    "cv2.drawContours(img, contours, -1, (0,255,0), 3)\n",
    "\n",
    "# Get the area of the object in pixels\n",
    "area = cv2.contourArea(contours[0])\n",
    "\n",
    "# Convert the area from pixels to a real-world unit of measurement (e.g. cm^2)\n",
    "scale_factor = 0.1 # 1 pixel = 0.1 cm\n",
    "size = area * scale_factor ** 2\n",
    "\n",
    "# Print the size of the object\n",
    "print('Size:', size)\n",
    "\n",
    "# Display the image with the contours drawn\n",
    "cv2.imwrite('Object.jpeg', img)\n",
    "cv2.waitKey(0)\n",
    "\n",
    "# Save the image with the contours drawn to a file\n",
    "cv2.imwrite('object_with_contours.jpg', img)\n"
   ]
  },
  {
   "cell_type": "code",
   "execution_count": null,
   "metadata": {},
   "outputs": [],
   "source": []
  }
 ],
 "metadata": {
  "kernelspec": {
   "display_name": "nhn1030",
   "language": "python",
   "name": "python3"
  },
  "language_info": {
   "codemirror_mode": {
    "name": "ipython",
    "version": 3
   },
   "file_extension": ".py",
   "mimetype": "text/x-python",
   "name": "python",
   "nbconvert_exporter": "python",
   "pygments_lexer": "ipython3",
   "version": "3.8.16"
  },
  "orig_nbformat": 4
 },
 "nbformat": 4,
 "nbformat_minor": 2
}
