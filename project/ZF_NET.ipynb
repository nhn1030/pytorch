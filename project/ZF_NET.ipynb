{
 "cells": [
  {
   "attachments": {},
   "cell_type": "markdown",
   "metadata": {},
   "source": [
    "**<h1>PYTORCH로 Zf_NET 구현하기</h1>**"
   ]
  },
  {
   "attachments": {},
   "cell_type": "markdown",
   "metadata": {},
   "source": [
    "AlexNet에 이허 ILSVRC 2013에서 우승한 구조이며 역시 CNN 기반 모델입니다. CNN 모델의 고질적인 문제인 Black box는 특정 layer에서 이미지의 어떤 부분을 검출하는지 \n",
    "모델이 왜 잘 작동하는지 알 수 없게 합니다. ZFNet은 feature map을 시각화하여 블랙박스를 들여다보고, 모델의 성능을 개선하는 것을 목표로 고안되었습니다."
   ]
  },
  {
   "cell_type": "code",
   "execution_count": null,
   "metadata": {},
   "outputs": [],
   "source": []
  },
  {
   "attachments": {},
   "cell_type": "markdown",
   "metadata": {},
   "source": []
  }
 ],
 "metadata": {
  "language_info": {
   "name": "python"
  },
  "orig_nbformat": 4
 },
 "nbformat": 4,
 "nbformat_minor": 2
}
